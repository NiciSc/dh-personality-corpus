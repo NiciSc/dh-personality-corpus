{
 "cells": [
  {
   "cell_type": "code",
   "execution_count": 5,
   "metadata": {},
   "outputs": [],
   "source": [
    "import json\n",
    "import csv\n",
    "import os"
   ]
  },
  {
   "cell_type": "code",
   "execution_count": 6,
   "metadata": {},
   "outputs": [],
   "source": [
    "# Path to directory containing the JSON files\n",
    "data_dir = '././testdata'\n",
    "\n",
    "# Path to output CSV file\n",
    "output_csv = '././output.csv'\n",
    "\n",
    "# Create a list to store the IDs of JSONs with subcat_id 2 or 3\n",
    "matching_ids = []"
   ]
  },
  {
   "cell_type": "code",
   "execution_count": 7,
   "metadata": {},
   "outputs": [],
   "source": [
    "# Loop through all files in the data directory\n",
    "for filename in os.listdir(data_dir):\n",
    "    # Check if file is a JSON file\n",
    "    if filename.endswith('.json'):\n",
    "        # Read the JSON file with UTF-8 encoding\n",
    "        with open(os.path.join(data_dir, filename), encoding='utf-8') as f:\n",
    "            data = json.load(f)\n",
    "            \n",
    "        # Check if the JSON has cat_id 2 or 3\n",
    "        if data.get('cat_id') in [2, 3]:\n",
    "            # Add the ID to the list of matching IDs\n",
    "            matching_ids.append(data['id'])"
   ]
  },
  {
   "cell_type": "code",
   "execution_count": 8,
   "metadata": {},
   "outputs": [],
   "source": [
    "# Write the matching IDs to a CSV file\n",
    "with open(output_csv, 'w', newline='') as f:\n",
    "    writer = csv.writer(f, delimiter=';')\n",
    "    writer.writerow(['id'])\n",
    "    for id in matching_ids:\n",
    "        writer.writerow([id])"
   ]
  }
 ],
 "metadata": {
  "kernelspec": {
   "display_name": "Python 3",
   "language": "python",
   "name": "python3"
  },
  "language_info": {
   "codemirror_mode": {
    "name": "ipython",
    "version": 3
   },
   "file_extension": ".py",
   "mimetype": "text/x-python",
   "name": "python",
   "nbconvert_exporter": "python",
   "pygments_lexer": "ipython3",
   "version": "3.11.1"
  },
  "orig_nbformat": 4
 },
 "nbformat": 4,
 "nbformat_minor": 2
}
