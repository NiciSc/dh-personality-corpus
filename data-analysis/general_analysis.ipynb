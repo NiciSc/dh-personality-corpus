{
 "cells": [
  {
   "attachments": {},
   "cell_type": "markdown",
   "metadata": {},
   "source": [
    "Import Modules"
   ]
  },
  {
   "cell_type": "code",
   "execution_count": 1,
   "metadata": {},
   "outputs": [],
   "source": [
    "import pandas as pd\n",
    "import json\n",
    "from pandas import json_normalize\n",
    "import os"
   ]
  },
  {
   "attachments": {},
   "cell_type": "markdown",
   "metadata": {},
   "source": [
    "Json to Dataframes"
   ]
  },
  {
   "cell_type": "code",
   "execution_count": 2,
   "metadata": {},
   "outputs": [
    {
     "name": "stdout",
     "output_type": "stream",
     "text": [
      "                                                                          0\n",
      "id                                                                   100010\n",
      "mbti_profile                                            Eins von Granzreich\n",
      "contributor_create_date                                 2020-02-19 06:52:43\n",
      "is_active                                                              True\n",
      "is_approved                                                            True\n",
      "mbti_enneagram_type                                                INTJ 1w9\n",
      "mbti_type                                                          INTJ 1w9\n",
      "pdb_public_access                                                      True\n",
      "wiki_description                                                #DaisukeOno\n",
      "watch_count                                                               3\n",
      "comment_count                                                             0\n",
      "vote_count                                                                5\n",
      "vote_count_enneagram                                                      2\n",
      "vote_count_mbti                                                           5\n",
      "total_vote_counts                                                        14\n",
      "personality_type          INTJ - 1w9 - sx/sp - 514 - ILI - RCOEI - LVFE ...\n",
      "type_updated_date                                       2022-09-27 09:31:12\n",
      "enneagram_vote                                                             \n",
      "enneagram_vote_id                                                         0\n",
      "mbti_vote                                                                  \n",
      "mbti_vote_id                                                              0\n",
      "alt_subcategory                                             The Royal Tutor\n",
      "related_subcategories                                                      \n",
      "cat_id                                                                    8\n",
      "category                                                      Anime & Manga\n",
      "category_is_fictional                                                  True\n",
      "sub_cat_id                                                             5010\n",
      "subcategory                                          Oushitsu Kyoushi Heine\n",
      "subcat_link_info          {'sub_cat_id': 5010, 'cat_id': 8, 'property_id...\n",
      "related_subcat_link_info                                               None\n",
      "functions                                                  [Ni, Te, Fi, Se]\n",
      "systems                   {'hex_color': '#888888', 'id': 1, 'personality...\n",
      "breakdown_systems         [{'myValue': 'INTJ', 'personality_system_id': ...\n",
      "mbti_letter_stats         [{'type': 'I', 'percentage': '100%', 'Percenta...\n"
     ]
    },
    {
     "name": "stderr",
     "output_type": "stream",
     "text": [
      "C:\\Users\\Raphael\\AppData\\Local\\Temp\\ipykernel_332\\657588775.py:12: FutureWarning: The frame.append method is deprecated and will be removed from pandas in a future version. Use pandas.concat instead.\n",
      "  dataframe_all = dataframe_all.append(df)\n"
     ]
    },
    {
     "name": "stdout",
     "output_type": "stream",
     "text": [
      "                                                                          0\n",
      "id                                                                   100010\n",
      "mbti_profile                                            Eins von Granzreich\n",
      "contributor_create_date                                 2020-02-19 06:52:43\n",
      "is_active                                                              True\n",
      "is_approved                                                            True\n",
      "...                                                                     ...\n",
      "related_subcat_link_info                                               None\n",
      "functions                                                  [Ti, Ne, Si, Fe]\n",
      "systems                   {'hex_color': '#888888', 'id': 1, 'personality...\n",
      "breakdown_systems         [{'myValue': 'INTP', 'personality_system_id': ...\n",
      "mbti_letter_stats         [{'type': 'I', 'percentage': '71%', 'Percentag...\n",
      "\n",
      "[68 rows x 1 columns]\n"
     ]
    }
   ],
   "source": [
    "dataframe_all = pd.DataFrame()\n",
    "for root, dirs, files in os.walk('../internalCorpus/internalCorpus/'):\n",
    "\tfor file in files:\n",
    "                if file.endswith(\".json\"):\n",
    "                        #print(root+\"/\"+file)\n",
    "                        with open(root+\"/\"+file) as f:\n",
    "                                data = json.load(f)\n",
    "                        df = pd.DataFrame.from_dict(data, orient = \"index\")\n",
    "                        if dataframe_all.empty:\n",
    "                                dataframe_all = df\n",
    "                        else:\n",
    "                                dataframe_all = pd.concat([dataframe_all, df], axis=1)\n",
    "                                # dataframe_all = dataframe_all.append(df)\n",
    "                        print(dataframe_all)\n"
   ]
  }
 ],
 "metadata": {
  "kernelspec": {
   "display_name": "Python 3",
   "language": "python",
   "name": "python3"
  },
  "language_info": {
   "codemirror_mode": {
    "name": "ipython",
    "version": 3
   },
   "file_extension": ".py",
   "mimetype": "text/x-python",
   "name": "python",
   "nbconvert_exporter": "python",
   "pygments_lexer": "ipython3",
   "version": "3.11.1"
  },
  "orig_nbformat": 4,
  "vscode": {
   "interpreter": {
    "hash": "8534a01d823d31faaebbf810b8f756455e5e883340ce10c3c970795c7aa13fae"
   }
  }
 },
 "nbformat": 4,
 "nbformat_minor": 2
}
