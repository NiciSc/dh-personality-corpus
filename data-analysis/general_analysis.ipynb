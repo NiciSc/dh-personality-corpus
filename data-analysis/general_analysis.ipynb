{
 "cells": [
  {
   "attachments": {},
   "cell_type": "markdown",
   "metadata": {},
   "source": [
    "Import modules"
   ]
  },
  {
   "cell_type": "code",
   "execution_count": 1,
   "metadata": {},
   "outputs": [],
   "source": [
    "import pandas as pd\n",
    "import json\n",
    "from pandas import json_normalize\n",
    "import os"
   ]
  },
  {
   "attachments": {},
   "cell_type": "markdown",
   "metadata": {},
   "source": [
    "Read data from JSONs"
   ]
  },
  {
   "cell_type": "code",
   "execution_count": 5,
   "metadata": {},
   "outputs": [
    {
     "name": "stdout",
     "output_type": "stream",
     "text": [
      "1000 files processed\n",
      "2000 files processed\n",
      "3000 files processed\n",
      "4000 files processed\n",
      "5000 files processed\n",
      "6000 files processed\n",
      "7000 files processed\n",
      "8000 files processed\n",
      "9000 files processed\n",
      "10000 files processed\n",
      "11000 files processed\n",
      "12000 files processed\n",
      "13000 files processed\n",
      "14000 files processed\n",
      "15000 files processed\n",
      "16000 files processed\n",
      "17000 files processed\n",
      "18000 files processed\n",
      "19000 files processed\n",
      "20000 files processed\n",
      "21000 files processed\n",
      "22000 files processed\n",
      "23000 files processed\n",
      "24000 files processed\n",
      "25000 files processed\n",
      "26000 files processed\n",
      "27000 files processed\n",
      "28000 files processed\n",
      "29000 files processed\n",
      "30000 files processed\n",
      "31000 files processed\n",
      "32000 files processed\n",
      "33000 files processed\n",
      "34000 files processed\n",
      "35000 files processed\n",
      "36000 files processed\n",
      "37000 files processed\n",
      "38000 files processed\n",
      "39000 files processed\n",
      "40000 files processed\n",
      "41000 files processed\n",
      "42000 files processed\n",
      "43000 files processed\n",
      "44000 files processed\n",
      "45000 files processed\n",
      "46000 files processed\n",
      "47000 files processed\n",
      "48000 files processed\n",
      "49000 files processed\n",
      "50000 files processed\n",
      "51000 files processed\n",
      "52000 files processed\n",
      "53000 files processed\n",
      "54000 files processed\n",
      "55000 files processed\n",
      "56000 files processed\n",
      "57000 files processed\n",
      "58000 files processed\n",
      "59000 files processed\n",
      "60000 files processed\n",
      "61000 files processed\n",
      "62000 files processed\n",
      "63000 files processed\n",
      "64000 files processed\n",
      "65000 files processed\n",
      "66000 files processed\n",
      "67000 files processed\n",
      "68000 files processed\n",
      "69000 files processed\n",
      "70000 files processed\n",
      "71000 files processed\n",
      "72000 files processed\n",
      "73000 files processed\n",
      "74000 files processed\n",
      "75000 files processed\n",
      "76000 files processed\n",
      "77000 files processed\n",
      "78000 files processed\n",
      "79000 files processed\n",
      "80000 files processed\n",
      "81000 files processed\n",
      "82000 files processed\n",
      "83000 files processed\n",
      "84000 files processed\n",
      "85000 files processed\n",
      "86000 files processed\n",
      "87000 files processed\n",
      "88000 files processed\n",
      "89000 files processed\n",
      "90000 files processed\n",
      "91000 files processed\n",
      "92000 files processed\n",
      "93000 files processed\n",
      "94000 files processed\n",
      "95000 files processed\n",
      "96000 files processed\n",
      "97000 files processed\n",
      "98000 files processed\n",
      "99000 files processed\n",
      "100000 files processed\n",
      "101000 files processed\n"
     ]
    }
   ],
   "source": [
    "PATH = '../../tempCorpus'\n",
    "count = 0\n",
    "df_list = []\n",
    "for file in os.listdir(PATH):\n",
    "        if file.endswith(\".json\"):\n",
    "                if count % 10000 == 0 and count > 0:\n",
    "                        print(f'{count} files processed')\n",
    "                with open(rf'{PATH}/{file}') as f:\n",
    "                        data = json.load(f)\n",
    "                df_list.append(pd.DataFrame.from_dict(data, orient = \"index\"))\n",
    "                count += 1"
   ]
  },
  {
   "attachments": {},
   "cell_type": "markdown",
   "metadata": {},
   "source": [
    "Create Dataframe"
   ]
  },
  {
   "cell_type": "code",
   "execution_count": 6,
   "metadata": {},
   "outputs": [],
   "source": [
    "dataframe = pd.concat(df_list, axis=1, ignore_index=True)"
   ]
  }
 ],
 "metadata": {
  "kernelspec": {
   "display_name": ".venv",
   "language": "python",
   "name": "python3"
  },
  "language_info": {
   "codemirror_mode": {
    "name": "ipython",
    "version": 3
   },
   "file_extension": ".py",
   "mimetype": "text/x-python",
   "name": "python",
   "nbconvert_exporter": "python",
   "pygments_lexer": "ipython3",
   "version": "3.10.6"
  },
  "orig_nbformat": 4,
  "vscode": {
   "interpreter": {
    "hash": "60b87e50709895c41698a42cf7af4f66243de80e0c37564019b2c0d4c166655d"
   }
  }
 },
 "nbformat": 4,
 "nbformat_minor": 2
}
