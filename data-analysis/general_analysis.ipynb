{
 "cells": [
  {
   "attachments": {},
   "cell_type": "markdown",
   "metadata": {},
   "source": [
    "## 01 Import modules"
   ]
  },
  {
   "cell_type": "code",
   "execution_count": 12,
   "metadata": {},
   "outputs": [],
   "source": [
    "import pandas as pd\n",
    "import json\n",
    "import os"
   ]
  },
  {
   "attachments": {},
   "cell_type": "markdown",
   "metadata": {},
   "source": [
    "#### [Opt] Vars"
   ]
  },
  {
   "cell_type": "code",
   "execution_count": 4,
   "metadata": {},
   "outputs": [],
   "source": [
    "#pd.set_option('display.max_columns', 50)\n",
    "PATH = '../../tempCorpus'\n",
    "data_list = []"
   ]
  },
  {
   "attachments": {},
   "cell_type": "markdown",
   "metadata": {},
   "source": [
    "#### [Opt] Funcs"
   ]
  },
  {
   "cell_type": "code",
   "execution_count": 5,
   "metadata": {},
   "outputs": [],
   "source": [
    "def set_dtypes(df):\n",
    "    df['id'] = df['id'].astype('Int32')\n",
    "    df['mbti_profile'] = df['mbti_profile'].astype('string')\n",
    "    df['contributor_create_date'] = df['contributor_create_date'].astype('string')\n",
    "    df['is_active'] = df['is_active'].astype('bool')\n",
    "    df['is_approved'] = df['is_approved'].astype('bool')\n",
    "    df['mbti_type'] = df['mbti_type'].astype('category')\n",
    "    df['pdb_public_access'] = df['pdb_public_access'].astype('bool')\n",
    "    df['watch_count'] = df['watch_count'].astype('Int32')\n",
    "    df['comment_count'] = df['comment_count'].astype('Int32')\n",
    "    df['vote_count_mbti'] = df['vote_count_mbti'].astype('Int32')\n",
    "    df['total_vote_counts'] = df['total_vote_counts'].astype('Int32')\n",
    "    df['cat_id'] = df['cat_id'].astype('Int8')\n",
    "    df['category'] = df['category'].astype('category')\n",
    "    df['sub_cat_id'] = df['sub_cat_id'].astype('Int32')\n",
    "    df['subcategory'] = df['subcategory'].astype('category')\n",
    "    df['functions'] = df['functions'].astype('string')\n",
    "    return df"
   ]
  },
  {
   "attachments": {},
   "cell_type": "markdown",
   "metadata": {},
   "source": [
    "#### [Opt] Read data from JSONs"
   ]
  },
  {
   "cell_type": "code",
   "execution_count": 6,
   "metadata": {},
   "outputs": [],
   "source": [
    "for file in os.listdir(PATH):\n",
    "        if file.endswith(\".json\"):\n",
    "                with open(rf'{PATH}/{file}') as f:\n",
    "                        data = json.load(f)\n",
    "                data_list.append(data)"
   ]
  },
  {
   "attachments": {},
   "cell_type": "markdown",
   "metadata": {},
   "source": [
    "#### [Opt] Create Dataframe"
   ]
  },
  {
   "cell_type": "code",
   "execution_count": 7,
   "metadata": {},
   "outputs": [],
   "source": [
    "dataframe = set_dtypes(pd.DataFrame(data_list))"
   ]
  },
  {
   "attachments": {},
   "cell_type": "markdown",
   "metadata": {},
   "source": [
    "#### [Opt] Store Dataframe with Feather\n",
    "- Write: 0.783s\n",
    "- Read: 0.583s\n",
    "- Size: 13MB"
   ]
  },
  {
   "cell_type": "code",
   "execution_count": 11,
   "metadata": {},
   "outputs": [],
   "source": [
    "dataframe.to_feather('dataframe.feather')"
   ]
  },
  {
   "attachments": {},
   "cell_type": "markdown",
   "metadata": {},
   "source": [
    "## 02 Load Data from Feather file"
   ]
  },
  {
   "cell_type": "code",
   "execution_count": 13,
   "metadata": {},
   "outputs": [],
   "source": [
    "dataframe=pd.read_feather('dataframe.feather')"
   ]
  },
  {
   "attachments": {},
   "cell_type": "markdown",
   "metadata": {},
   "source": [
    "## 03 Clear Data"
   ]
  },
  {
   "attachments": {},
   "cell_type": "markdown",
   "metadata": {},
   "source": [
    "### 03.1 Remove entries with small amount of votes\n",
    "Threshhold \"5\":\\\n",
    "Reduces rows by 54 717"
   ]
  },
  {
   "cell_type": "code",
   "execution_count": 14,
   "metadata": {},
   "outputs": [],
   "source": [
    "THRESHHOLD = 5\n",
    "transformed_df = dataframe.query(f\"total_vote_counts >= {THRESHHOLD}\").copy()"
   ]
  },
  {
   "attachments": {},
   "cell_type": "markdown",
   "metadata": {},
   "source": [
    "### 03.2 Remove entries where mbti_type is uncertain (e.g. contains char 'x')\n",
    "\n",
    "Reduces rows by 2366"
   ]
  },
  {
   "cell_type": "code",
   "execution_count": 15,
   "metadata": {},
   "outputs": [],
   "source": [
    "rows_with_x = transformed_df[transformed_df.mbti_type.str.contains('X',case=False)].copy()\n",
    "# transformed_df = pd.concat([transformed_df, rows_with_x])\n",
    "# TODO: remove duplicates from transformed_df"
   ]
  },
  {
   "cell_type": "code",
   "execution_count": 16,
   "metadata": {},
   "outputs": [
    {
     "name": "stdout",
     "output_type": "stream",
     "text": [
      "<class 'pandas.core.frame.DataFrame'>\n",
      "Int64Index: 47104 entries, 0 to 101815\n",
      "Data columns (total 18 columns):\n",
      " #   Column                   Non-Null Count  Dtype   \n",
      "---  ------                   --------------  -----   \n",
      " 0   id                       47104 non-null  Int32   \n",
      " 1   mbti_profile             47104 non-null  string  \n",
      " 2   contributor_create_date  47104 non-null  string  \n",
      " 3   is_active                47104 non-null  bool    \n",
      " 4   is_approved              47104 non-null  bool    \n",
      " 5   mbti_type                47104 non-null  category\n",
      " 6   pdb_public_access        47104 non-null  bool    \n",
      " 7   watch_count              47104 non-null  Int32   \n",
      " 8   comment_count            47104 non-null  Int32   \n",
      " 9   vote_count_mbti          47104 non-null  Int32   \n",
      " 10  total_vote_counts        47104 non-null  Int32   \n",
      " 11  cat_id                   47104 non-null  Int8    \n",
      " 12  category                 47104 non-null  category\n",
      " 13  sub_cat_id               47104 non-null  Int32   \n",
      " 14  subcategory              47104 non-null  category\n",
      " 15  functions                47104 non-null  string  \n",
      " 16  breakdown_systems        47104 non-null  object  \n",
      " 17  mbti_letter_stats        47104 non-null  object  \n",
      "dtypes: Int32(6), Int8(1), bool(3), category(3), object(2), string(3)\n",
      "memory usage: 4.6+ MB\n"
     ]
    }
   ],
   "source": [
    "transformed_df.info()"
   ]
  }
 ],
 "metadata": {
  "kernelspec": {
   "display_name": ".venv",
   "language": "python",
   "name": "python3"
  },
  "language_info": {
   "codemirror_mode": {
    "name": "ipython",
    "version": 3
   },
   "file_extension": ".py",
   "mimetype": "text/x-python",
   "name": "python",
   "nbconvert_exporter": "python",
   "pygments_lexer": "ipython3",
   "version": "3.10.6"
  },
  "orig_nbformat": 4,
  "vscode": {
   "interpreter": {
    "hash": "60b87e50709895c41698a42cf7af4f66243de80e0c37564019b2c0d4c166655d"
   }
  }
 },
 "nbformat": 4,
 "nbformat_minor": 2
}
