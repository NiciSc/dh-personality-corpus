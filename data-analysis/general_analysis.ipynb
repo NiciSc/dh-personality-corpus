{
 "cells": [
  {
   "attachments": {},
   "cell_type": "markdown",
   "metadata": {},
   "source": [
    "## Import modules"
   ]
  },
  {
   "cell_type": "code",
   "execution_count": 3,
   "metadata": {},
   "outputs": [],
   "source": [
    "import pandas as pd\n",
    "import json\n",
    "import os"
   ]
  },
  {
   "attachments": {},
   "cell_type": "markdown",
   "metadata": {},
   "source": [
    "## Vars"
   ]
  },
  {
   "cell_type": "code",
   "execution_count": 4,
   "metadata": {},
   "outputs": [],
   "source": [
    "pd.set_option('display.max_columns', 50)\n",
    "PATH = '../../tempCorpus'\n",
    "data_list = []"
   ]
  },
  {
   "attachments": {},
   "cell_type": "markdown",
   "metadata": {},
   "source": [
    "## Funcs"
   ]
  },
  {
   "cell_type": "code",
   "execution_count": 5,
   "metadata": {},
   "outputs": [],
   "source": [
    "def set_dtypes(df):\n",
    "    df['id'] = df['id'].astype('Int32')\n",
    "    df['mbti_profile'] = df['mbti_profile'].astype('string')\n",
    "    df['contributor_create_date'] = df['contributor_create_date'].astype('string')\n",
    "    df['is_active'] = df['is_active'].astype('bool')\n",
    "    df['is_approved'] = df['is_approved'].astype('bool')\n",
    "    df['mbti_type'] = df['mbti_type'].astype('category')\n",
    "    df['pdb_public_access'] = df['pdb_public_access'].astype('bool')\n",
    "    df['watch_count'] = df['watch_count'].astype('Int32')\n",
    "    df['comment_count'] = df['comment_count'].astype('Int32')\n",
    "    df['vote_count_mbti'] = df['vote_count_mbti'].astype('Int32')\n",
    "    df['total_vote_counts'] = df['total_vote_counts'].astype('Int32')\n",
    "    df['cat_id'] = df['cat_id'].astype('Int8')\n",
    "    df['category'] = df['category'].astype('category')\n",
    "    df['sub_cat_id'] = df['sub_cat_id'].astype('Int32')\n",
    "    df['subcategory'] = df['subcategory'].astype('category')\n",
    "    df['functions'] = df['functions'].astype('string')\n",
    "    return df"
   ]
  },
  {
   "attachments": {},
   "cell_type": "markdown",
   "metadata": {},
   "source": [
    "## Read data from JSONs"
   ]
  },
  {
   "cell_type": "code",
   "execution_count": 6,
   "metadata": {},
   "outputs": [],
   "source": [
    "for file in os.listdir(PATH):\n",
    "        if file.endswith(\".json\"):\n",
    "                with open(rf'{PATH}/{file}') as f:\n",
    "                        data = json.load(f)\n",
    "                data_list.append(data)"
   ]
  },
  {
   "attachments": {},
   "cell_type": "markdown",
   "metadata": {},
   "source": [
    "## Create Dataframe"
   ]
  },
  {
   "cell_type": "code",
   "execution_count": 7,
   "metadata": {},
   "outputs": [],
   "source": [
    "dataframe = set_dtypes(pd.DataFrame(data_list))"
   ]
  },
  {
   "attachments": {},
   "cell_type": "markdown",
   "metadata": {},
   "source": [
    "## Store Dataframe with Feather\n",
    "- Write: 0.783s\n",
    "- Read: 0.583s\n",
    "- Size: 13MB"
   ]
  },
  {
   "cell_type": "code",
   "execution_count": 11,
   "metadata": {},
   "outputs": [],
   "source": [
    "dataframe.to_feather('dataframe.feather')\n",
    "#df_feather = pd.read_feather('dataframe.feather')"
   ]
  },
  {
   "cell_type": "code",
   "execution_count": 11,
   "metadata": {},
   "outputs": [
    {
     "name": "stdout",
     "output_type": "stream",
     "text": [
      "13M -rwxrwxrwx 1 nfsnobody 13M 11. Feb 02:10 dataframe.feather*\n"
     ]
    }
   ],
   "source": [
    "#!ls -GFlash dataframe.feather"
   ]
  },
  {
   "attachments": {},
   "cell_type": "markdown",
   "metadata": {},
   "source": [
    "## Clear Data"
   ]
  },
  {
   "attachments": {},
   "cell_type": "markdown",
   "metadata": {},
   "source": [
    "### Remove entries with small amount of votes\n",
    "Threshhold \"5\":\\\n",
    "Reduces rows by 54 717"
   ]
  },
  {
   "cell_type": "code",
   "execution_count": 21,
   "metadata": {},
   "outputs": [],
   "source": [
    "THRESHHOLD = 5\n",
    "transformed_df = dataframe.query(f\"total_vote_counts >= {THRESHHOLD}\").copy()"
   ]
  },
  {
   "attachments": {},
   "cell_type": "markdown",
   "metadata": {},
   "source": [
    "### Remove entries where mbti_type is uncertain (e.g. contains char 'x')\n",
    "\n",
    "Reduces rows by 2366"
   ]
  },
  {
   "cell_type": "code",
   "execution_count": 39,
   "metadata": {},
   "outputs": [
    {
     "ename": "ValueError",
     "evalue": "The truth value of a Series is ambiguous. Use a.empty, a.bool(), a.item(), a.any() or a.all().",
     "output_type": "error",
     "traceback": [
      "\u001b[0;31m---------------------------------------------------------------------------\u001b[0m",
      "\u001b[0;31mValueError\u001b[0m                                Traceback (most recent call last)",
      "Cell \u001b[0;32mIn[39], line 1\u001b[0m\n\u001b[0;32m----> 1\u001b[0m transformed_df[\u001b[39mnot\u001b[39;49;00m transformed_df\u001b[39m.\u001b[39;49mmbti_type\u001b[39m.\u001b[39;49mstr\u001b[39m.\u001b[39;49mcontains(\u001b[39m'\u001b[39;49m\u001b[39mX\u001b[39;49m\u001b[39m'\u001b[39;49m,case\u001b[39m=\u001b[39;49m\u001b[39mFalse\u001b[39;49;00m)]\n",
      "File \u001b[0;32m/run/media/raphi/F6A8C18DA8C14CB5/Users/Raphael/Documents/Universität/Master/WS 22-23/Digital Humanities/Scraping/dh-personality-corpus/.venv/lib/python3.10/site-packages/pandas/core/generic.py:1527\u001b[0m, in \u001b[0;36mNDFrame.__nonzero__\u001b[0;34m(self)\u001b[0m\n\u001b[1;32m   1525\u001b[0m \u001b[39m@final\u001b[39m\n\u001b[1;32m   1526\u001b[0m \u001b[39mdef\u001b[39;00m \u001b[39m__nonzero__\u001b[39m(\u001b[39mself\u001b[39m) \u001b[39m-\u001b[39m\u001b[39m>\u001b[39m NoReturn:\n\u001b[0;32m-> 1527\u001b[0m     \u001b[39mraise\u001b[39;00m \u001b[39mValueError\u001b[39;00m(\n\u001b[1;32m   1528\u001b[0m         \u001b[39mf\u001b[39m\u001b[39m\"\u001b[39m\u001b[39mThe truth value of a \u001b[39m\u001b[39m{\u001b[39;00m\u001b[39mtype\u001b[39m(\u001b[39mself\u001b[39m)\u001b[39m.\u001b[39m\u001b[39m__name__\u001b[39m\u001b[39m}\u001b[39;00m\u001b[39m is ambiguous. \u001b[39m\u001b[39m\"\u001b[39m\n\u001b[1;32m   1529\u001b[0m         \u001b[39m\"\u001b[39m\u001b[39mUse a.empty, a.bool(), a.item(), a.any() or a.all().\u001b[39m\u001b[39m\"\u001b[39m\n\u001b[1;32m   1530\u001b[0m     )\n",
      "\u001b[0;31mValueError\u001b[0m: The truth value of a Series is ambiguous. Use a.empty, a.bool(), a.item(), a.any() or a.all()."
     ]
    }
   ],
   "source": [
    "transformed_df[transformed_df.mbti_type.str.contains('X',case=False)]"
   ]
  }
 ],
 "metadata": {
  "kernelspec": {
   "display_name": ".venv",
   "language": "python",
   "name": "python3"
  },
  "language_info": {
   "codemirror_mode": {
    "name": "ipython",
    "version": 3
   },
   "file_extension": ".py",
   "mimetype": "text/x-python",
   "name": "python",
   "nbconvert_exporter": "python",
   "pygments_lexer": "ipython3",
   "version": "3.10.6"
  },
  "orig_nbformat": 4,
  "vscode": {
   "interpreter": {
    "hash": "60b87e50709895c41698a42cf7af4f66243de80e0c37564019b2c0d4c166655d"
   }
  }
 },
 "nbformat": 4,
 "nbformat_minor": 2
}
