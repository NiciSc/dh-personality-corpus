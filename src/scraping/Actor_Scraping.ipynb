{
 "cells": [
  {
   "cell_type": "code",
   "execution_count": 1,
   "metadata": {},
   "outputs": [],
   "source": [
    "import logging\n",
    "import requests\n",
    "import time\n",
    "import json\n",
    "import csv"
   ]
  },
  {
   "cell_type": "markdown",
   "metadata": {},
   "source": [
    "https://requests.readthedocs.io/en/latest/user/quickstart/"
   ]
  },
  {
   "cell_type": "code",
   "execution_count": 2,
   "metadata": {},
   "outputs": [],
   "source": [
    "URL = r\"https://api.personality-database.com/api/v2/profiles/\"\n",
    "# It’s a good practice to set connect timeouts to slightly larger than a multiple of 3, which is the default TCP packet retransmission window.\n",
    "# https://requests.readthedocs.io/en/latest/user/advanced/ -> Timeouts\n",
    "TIMEOUT = 3.05\n",
    "# Add delay after error because of 5 minute block by AWS WAF\n",
    "# https://docs.aws.amazon.com/waf/latest/developerguide/waf-rule-statement-type-rate-based.html\n",
    "DELAY_AFTER_ERROR = 21\n",
    "# A delay between requests would be more ethical, especially if we start to scrape in parallel a lot\n",
    "# https://scrapeops.io/python-scrapy-playbook/scrapy-delay-between-requests/\n",
    "DELAY_BETWEEN_REQUESTS = 3.05\n",
    "LOWER_LIMIT = 29997\n",
    "UPPER_LIMIT = 45000"
   ]
  },
  {
   "cell_type": "code",
   "execution_count": 3,
   "metadata": {},
   "outputs": [],
   "source": [
    "local_logger = logging.getLogger(\"local\")\n",
    "local_logger.setLevel(logging.INFO)\n",
    "local_handler = logging.FileHandler(filename=\"error.log\", mode=\"a\", encoding=\"utf-8\")\n",
    "local_formatter = logging.Formatter(fmt=\"%(asctime)s :: %(name)s :: %(levelname)s :: %(message)s\", datefmt=\"%Y-%m-%d %H:%M:%S\", style=\"%\")\n",
    "local_handler.setFormatter(local_formatter)\n",
    "local_logger.addHandler(local_handler)"
   ]
  },
  {
   "cell_type": "code",
   "execution_count": 4,
   "metadata": {},
   "outputs": [],
   "source": [
    "id_list = []"
   ]
  },
  {
   "cell_type": "code",
   "execution_count": 5,
   "metadata": {},
   "outputs": [],
   "source": [
    "def populate_id_list():\n",
    "    with open(\"output.csv\", newline='') as csvfile:\n",
    "        reader = csv.reader(csvfile, delimiter=';')\n",
    "        for row in reader:\n",
    "            id_list.append(row[0])       "
   ]
  },
  {
   "cell_type": "code",
   "execution_count": 6,
   "metadata": {},
   "outputs": [],
   "source": [
    "populate_id_list()"
   ]
  },
  {
   "cell_type": "code",
   "execution_count": 7,
   "metadata": {},
   "outputs": [],
   "source": [
    "def save_JSON(file, file_name: int):\n",
    "    with open(f\"data/{file_name}_related.json\", \"w\", encoding=\"utf-8\") as f:\n",
    "        json.dump(file, f, ensure_ascii=False)"
   ]
  },
  {
   "cell_type": "markdown",
   "metadata": {},
   "source": [
    "https://requests.readthedocs.io/en/latest/user/advanced/"
   ]
  },
  {
   "cell_type": "code",
   "execution_count": 8,
   "metadata": {},
   "outputs": [],
   "source": [
    "session = requests.Session()"
   ]
  },
  {
   "cell_type": "code",
   "execution_count": 9,
   "metadata": {},
   "outputs": [],
   "source": [
    "id_index = LOWER_LIMIT\n",
    "while id_index <= UPPER_LIMIT:\n",
    "    time.sleep(DELAY_BETWEEN_REQUESTS)\n",
    "    try:\n",
    "        with session.get(rf\"{URL}{id_list[id_index]}/related\", timeout = TIMEOUT) as r:\n",
    "            r.raise_for_status()\n",
    "\n",
    "            data = r.json()\n",
    "\n",
    "        save_JSON(data, id_list[id_index])\n",
    "        local_logger.info(f\"Saved {id_list[id_index]} @ index {id_index}\")\n",
    "        id_index += 1\n",
    "    except requests.exceptions.HTTPError as HTTP_err:\n",
    "        if r.text.__contains__(\"error\"):\n",
    "            err_message = f\"{HTTP_err}\\t-\\t@ index {id_index}\"\n",
    "            local_logger.error(err_message)\n",
    "            id_index += 1\n",
    "        else:\n",
    "            err_message = f\"{HTTP_err}\\t-\\tCloudfront @ index {id_index}\"\n",
    "            local_logger.critical(err_message)\n",
    "            time.sleep(DELAY_AFTER_ERROR)\n",
    "            continue\n",
    "    except requests.exceptions.ConnectionError as conn_err:\n",
    "        err_message = f\"{conn_err}\\t-\\t@ index {id_index}\"\n",
    "        local_logger.critical(err_message)\n",
    "        time.sleep(DELAY_AFTER_ERROR)\n",
    "        continue\n",
    "    except requests.exceptions.Timeout as time_err:\n",
    "        err_message = f\"{time_err}\\t-\\tTimed out for url: {r.url} @ index {id_index}\"\n",
    "        local_logger.critical(err_message)\n",
    "        continue\n",
    "    except Exception as exc:\n",
    "        local_logger.critical(exc)\n",
    "        break"
   ]
  }
 ],
 "metadata": {
  "kernelspec": {
   "display_name": "Python 3 (ipykernel)",
   "language": "python",
   "name": "python3"
  },
  "language_info": {
   "codemirror_mode": {
    "name": "ipython",
    "version": 3
   },
   "file_extension": ".py",
   "mimetype": "text/x-python",
   "name": "python",
   "nbconvert_exporter": "python",
   "pygments_lexer": "ipython3",
   "version": "3.10.6"
  },
  "vscode": {
   "interpreter": {
    "hash": "60b87e50709895c41698a42cf7af4f66243de80e0c37564019b2c0d4c166655d"
   }
  }
 },
 "nbformat": 4,
 "nbformat_minor": 4
}
