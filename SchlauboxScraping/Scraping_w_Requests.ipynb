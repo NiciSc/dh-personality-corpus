{
 "cells": [
  {
   "cell_type": "code",
   "execution_count": 1,
   "metadata": {},
   "outputs": [],
   "source": [
    "import logging\n",
    "import requests\n",
    "import time\n",
    "import json\n",
    "import os\n",
    "from logging.handlers import SysLogHandler"
   ]
  },
  {
   "cell_type": "markdown",
   "metadata": {},
   "source": [
    "https://requests.readthedocs.io/en/latest/user/quickstart/"
   ]
  },
  {
   "cell_type": "code",
   "execution_count": 2,
   "metadata": {},
   "outputs": [],
   "source": [
    "URL = r\"https://api.personality-database.com/api/v1/profile/\"\n",
    "# It’s a good practice to set connect timeouts to slightly larger than a multiple of 3, which is the default TCP packet retransmission window.\n",
    "# https://requests.readthedocs.io/en/latest/user/advanced/ -> Timeouts\n",
    "TIMEOUT = 3.05\n",
    "# 5 minute delay because of AWS WAF constraint\n",
    "# https://docs.aws.amazon.com/waf/latest/developerguide/waf-rule-statement-type-rate-based.html\n",
    "DELAY = 103\n",
    "LOWER_LIMIT = 1\n",
    "UPPER_LIMIT = 100000"
   ]
  },
  {
   "cell_type": "code",
   "execution_count": 3,
   "metadata": {},
   "outputs": [],
   "source": [
    "PAPERTRAIL_HOST=\"logs3.papertrailapp.com\"\n",
    "PAPERTRAIL_PORT=36753"
   ]
  },
  {
   "cell_type": "code",
   "execution_count": 4,
   "metadata": {},
   "outputs": [],
   "source": [
    "# Timezone has to be set for logger to record correct timestamps\n",
    "os.environ['TZ'] = 'Europe/Berlin'\n",
    "time.tzset()"
   ]
  },
  {
   "cell_type": "code",
   "execution_count": 5,
   "metadata": {},
   "outputs": [],
   "source": [
    "remote_logger = logging.getLogger(\"remote\")\n",
    "remote_logger.setLevel(logging.INFO)\n",
    "remote_handler = SysLogHandler(address=(PAPERTRAIL_HOST, PAPERTRAIL_PORT))\n",
    "remote_formatter = logging.Formatter(fmt=\"%(name)s :: %(levelname)s :: %(message)s\")\n",
    "remote_handler.setFormatter(remote_formatter)\n",
    "remote_logger.addHandler(remote_handler)\n",
    "\n",
    "local_logger = logging.getLogger(\"local\")\n",
    "local_logger.setLevel(logging.ERROR)\n",
    "local_handler = logging.FileHandler(filename=\"error.log\", mode=\"a\", encoding=\"utf-8\")\n",
    "local_formatter = logging.Formatter(fmt=\"%(asctime)s :: %(name)s :: %(levelname)s :: %(message)s\", datefmt=\"%Y-%m-%d %H:%M:%S\", style=\"%\")\n",
    "local_handler.setFormatter(local_formatter)\n",
    "local_logger.addHandler(local_handler)"
   ]
  },
  {
   "cell_type": "code",
   "execution_count": 6,
   "metadata": {},
   "outputs": [],
   "source": [
    "#with open('./corpus_template.json', encoding='UTF-8') as file:\n",
    "#    external_json_format = json.load(file)\n",
    "\n",
    "#def format_JSON(file):\n",
    "#    external_json_dict = {}\n",
    "#    try:\n",
    "#        for element in file['topic_info']['topic']['posts']['posts']:\n",
    "#            for key in ['username', 'user_pic_path', 'user_personality_type', 'is_mod']:\n",
    "#                element.pop(key)\n",
    "#    except KeyError:\n",
    "#        pass\n",
    "#    for category in external_json_format:\n",
    "#        external_json_dict[category] = file[category]\n",
    "#    return external_json_dict\n",
    "\n",
    "def save_JSON(file, file_name: int):\n",
    "    with open(f\"data/{file_name}.json\", \"w\", encoding=\"utf-8\") as f:\n",
    "        json.dump(file, f, ensure_ascii=False)"
   ]
  },
  {
   "cell_type": "markdown",
   "metadata": {},
   "source": [
    "https://requests.readthedocs.io/en/latest/user/advanced/"
   ]
  },
  {
   "cell_type": "code",
   "execution_count": 7,
   "metadata": {},
   "outputs": [],
   "source": [
    "session = requests.Session()"
   ]
  },
  {
   "cell_type": "code",
   "execution_count": 8,
   "metadata": {},
   "outputs": [],
   "source": [
    "def scrape(session: requests.Session = session, lower_bound: int = LOWER_LIMIT, upper_bound: int = UPPER_LIMIT):\n",
    "    for file_id in range(lower_bound, upper_bound):\n",
    "        try:\n",
    "            r = session.get(f\"{URL}{file_id}\", timeout = TIMEOUT)\n",
    "\n",
    "            r.raise_for_status()\n",
    "            \n",
    "            data = r.json()\n",
    "            #data = format_JSON(json)\n",
    "\n",
    "            save_JSON(data, file_id)\n",
    "            remote_logger.info(f\"{r.url} saved\")\n",
    "        except requests.exceptions.HTTPError as HTTP_err:\n",
    "            if r.text.__contains__(\"message\"):\n",
    "                err_message = f\"{HTTP_err} - {r.json()['message']}\"\n",
    "                remote_logger.error(err_message)\n",
    "                local_logger.error(err_message)\n",
    "            else:\n",
    "                err_message = f\"{HTTP_err} - Cloudfront\"\n",
    "                remote_logger.critical(err_message)\n",
    "                local_logger.critical(err_message)\n",
    "                time.sleep(DELAY)\n",
    "                scrape(lower_bound=file_id)\n",
    "                break\n",
    "            continue\n",
    "        except requests.exceptions.ConnectionError as conn_err:\n",
    "            err_message = f\"{conn_err} {r.json()['message']}\"\n",
    "            remote_logger.critical(err_message)\n",
    "            local_logger.critical(err_message)\n",
    "            time.sleep(DELAY)\n",
    "            scrape(lower_bound=file_id)\n",
    "            break\n",
    "        except requests.exceptions.Timeout as time_err:\n",
    "            err_message = f\"{time_err} - Timed out for url: {r.url}\"\n",
    "            remote_logger.critical(err_message)\n",
    "            local_logger.critical(err_message)\n",
    "            continue\n",
    "        except requests.JSONDecodeError as decode_err:\n",
    "            err_message = f\"{decode_err} - Couldn't decode json from: {r.url}\"\n",
    "            remote_logger.critical(err_message)\n",
    "            local_logger.critical(err_message)\n",
    "            continue"
   ]
  },
  {
   "cell_type": "code",
   "execution_count": 9,
   "metadata": {},
   "outputs": [],
   "source": [
    "scrape()"
   ]
  }
 ],
 "metadata": {
  "kernelspec": {
   "display_name": ".venv",
   "language": "python",
   "name": "python3"
  },
  "language_info": {
   "codemirror_mode": {
    "name": "ipython",
    "version": 3
   },
   "file_extension": ".py",
   "mimetype": "text/x-python",
   "name": "python",
   "nbconvert_exporter": "python",
   "pygments_lexer": "ipython3",
   "version": "3.10.6"
  },
  "vscode": {
   "interpreter": {
    "hash": "60b87e50709895c41698a42cf7af4f66243de80e0c37564019b2c0d4c166655d"
   }
  }
 },
 "nbformat": 4,
 "nbformat_minor": 4
}
