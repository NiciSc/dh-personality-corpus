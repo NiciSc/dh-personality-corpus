{
 "cells": [
  {
   "cell_type": "code",
   "execution_count": 1,
   "metadata": {},
   "outputs": [],
   "source": [
    "import logging\n",
    "import requests\n",
    "import time\n",
    "import json"
   ]
  },
  {
   "cell_type": "markdown",
   "metadata": {},
   "source": [
    "https://requests.readthedocs.io/en/latest/user/quickstart/"
   ]
  },
  {
   "cell_type": "code",
   "execution_count": 2,
   "metadata": {},
   "outputs": [],
   "source": [
    "URL = r\"https://api.personality-database.com/api/v1/profile/\"\n",
    "# It’s a good practice to set connect timeouts to slightly larger than a multiple of 3, which is the default TCP packet retransmission window.\n",
    "# https://requests.readthedocs.io/en/latest/user/advanced/ -> Timeouts\n",
    "TIMEOUT = 3.05\n",
    "# 5 minute delay because of AWS WAF constraint\n",
    "# https://docs.aws.amazon.com/waf/latest/developerguide/waf-rule-statement-type-rate-based.html\n",
    "DELAY = 310\n",
    "LOWER_LIMIT = 1\n",
    "UPPER_LIMIT = 100000"
   ]
  },
  {
   "cell_type": "code",
   "execution_count": 4,
   "metadata": {},
   "outputs": [],
   "source": [
    "local_logger = logging.getLogger(\"local\")\n",
    "local_logger.setLevel(logging.ERROR)\n",
    "local_handler = logging.FileHandler(filename=\"error.log\", mode=\"a\", encoding=\"utf-8\")\n",
    "local_formatter = logging.Formatter(fmt=\"%(asctime)s :: %(name)s :: %(levelname)s :: %(message)s\", datefmt=\"%Y-%m-%d %H:%M:%S\", style=\"%\")\n",
    "local_handler.setFormatter(local_formatter)\n",
    "local_logger.addHandler(local_handler)"
   ]
  },
  {
   "cell_type": "code",
   "execution_count": 5,
   "metadata": {},
   "outputs": [],
   "source": [
    "def save_JSON(file, file_name: int):\n",
    "    with open(f\"data/{file_name}.json\", \"w\", encoding=\"utf-8\") as f:\n",
    "        json.dump(file, f, ensure_ascii=False)"
   ]
  },
  {
   "cell_type": "markdown",
   "metadata": {},
   "source": [
    "https://requests.readthedocs.io/en/latest/user/advanced/"
   ]
  },
  {
   "cell_type": "code",
   "execution_count": 6,
   "metadata": {},
   "outputs": [],
   "source": [
    "session = requests.Session()"
   ]
  },
  {
   "cell_type": "code",
   "execution_count": 7,
   "metadata": {},
   "outputs": [],
   "source": [
    "def scrape(session: requests.Session = session, lower_bound: int = LOWER_LIMIT, upper_bound: int = UPPER_LIMIT):\n",
    "    for file_id in range(lower_bound, upper_bound):\n",
    "        try:\n",
    "            r = session.get(f\"{URL}{file_id}\", timeout = TIMEOUT)\n",
    "\n",
    "            r.raise_for_status()\n",
    "            \n",
    "            data = r.json()\n",
    "\n",
    "            save_JSON(data, file_id)\n",
    "        except requests.exceptions.HTTPError as HTTP_err:\n",
    "            if r.text.__contains__(\"message\"):\n",
    "                err_message = f\"{HTTP_err} - {r.json()['message']}\"\n",
    "                local_logger.error(err_message)\n",
    "            else:\n",
    "                err_message = f\"{HTTP_err} - Cloudfront\"\n",
    "                local_logger.critical(err_message)\n",
    "                time.sleep(DELAY)\n",
    "                scrape(lower_bound=file_id)\n",
    "                break\n",
    "            continue\n",
    "        except requests.exceptions.ConnectionError as conn_err:\n",
    "            err_message = f\"{conn_err} {r.json()['message']}\"\n",
    "            local_logger.critical(err_message)\n",
    "            break\n",
    "        except requests.exceptions.Timeout as time_err:\n",
    "            err_message = f\"{time_err} - Timed out for url: {r.url}\"\n",
    "            local_logger.critical(err_message)\n",
    "            continue\n",
    "        except requests.JSONDecodeError as decode_err:\n",
    "            err_message = f\"{decode_err} - Couldn't decode json from: {r.url}\"\n",
    "            local_logger.critical(err_message)\n",
    "            continue"
   ]
  },
  {
   "cell_type": "code",
   "execution_count": 8,
   "metadata": {},
   "outputs": [],
   "source": [
    "scrape()"
   ]
  }
 ],
 "metadata": {
  "kernelspec": {
   "display_name": "Python 3 (ipykernel)",
   "language": "python",
   "name": "python3"
  },
  "vscode": {
   "interpreter": {
    "hash": "e7370f93d1d0cde622a1f8e1c04877d8463912d04d973331ad4851f04de6915a"
   }
  }
 },
 "nbformat": 4,
 "nbformat_minor": 4
}
