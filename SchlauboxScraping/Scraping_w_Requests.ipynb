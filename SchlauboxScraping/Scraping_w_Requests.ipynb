{
 "cells": [
  {
   "cell_type": "code",
   "execution_count": 1,
   "metadata": {},
   "outputs": [],
   "source": [
    "import logging\n",
    "import requests\n",
    "import time\n",
    "import json"
   ]
  },
  {
   "attachments": {},
   "cell_type": "markdown",
   "metadata": {},
   "source": [
    "https://requests.readthedocs.io/en/latest/user/quickstart/"
   ]
  },
  {
   "cell_type": "code",
   "execution_count": 2,
   "metadata": {},
   "outputs": [],
   "source": [
    "URL = r\"https://api.personality-database.com/api/v1/profile/\"\n",
    "# It’s a good practice to set connect timeouts to slightly larger than a multiple of 3, which is the default TCP packet retransmission window.\n",
    "# https://requests.readthedocs.io/en/latest/user/advanced/ -> Timeouts\n",
    "TIMEOUT = 3.05\n",
    "# 5 minute delay because of AWS WAF constraint\n",
    "# https://docs.aws.amazon.com/waf/latest/developerguide/waf-rule-statement-type-rate-based.html\n",
    "DELAY = 305\n",
    "LOWER_LIMIT = 1\n",
    "UPPER_LIMIT = 100000"
   ]
  },
  {
   "cell_type": "code",
   "execution_count": 3,
   "metadata": {},
   "outputs": [],
   "source": [
    "logging.basicConfig(filename=\"errorlog.log\", encoding=\"utf-8\", level=logging.ERROR)"
   ]
  },
  {
   "cell_type": "code",
   "execution_count": 4,
   "metadata": {},
   "outputs": [],
   "source": [
    "with open('./corpus_template.json', encoding='UTF-8') as file:\n",
    "    external_json_format = json.load(file)\n",
    "\n",
    "def format_JSON(file):\n",
    "    external_json_dict = {}\n",
    "    try:\n",
    "        for element in file['topic_info']['topic']['posts']['posts']:\n",
    "            for key in ['username', 'user_pic_path', 'user_personality_type', 'is_mod']:\n",
    "                element.pop(key)\n",
    "    except KeyError:\n",
    "        pass\n",
    "    for category in external_json_format:\n",
    "        external_json_dict[category] = file[category]\n",
    "    return external_json_dict\n",
    "\n",
    "def save_JSON(file, file_name: int):\n",
    "    with open(f\"data/{file_name}.json\", \"w\", encoding=\"utf-8\") as f:\n",
    "        json.dump(file, f, ensure_ascii=False)\n",
    "    logging.info(\"JSON ready\")"
   ]
  },
  {
   "attachments": {},
   "cell_type": "markdown",
   "metadata": {},
   "source": [
    "https://requests.readthedocs.io/en/latest/user/advanced/"
   ]
  },
  {
   "cell_type": "code",
   "execution_count": 5,
   "metadata": {},
   "outputs": [],
   "source": [
    "session = requests.Session()"
   ]
  },
  {
   "cell_type": "code",
   "execution_count": 6,
   "metadata": {},
   "outputs": [],
   "source": [
    "def scrape(session: requests.Session = session, lower_bound: int = LOWER_LIMIT, upper_bound: int = UPPER_LIMIT):\n",
    "    for file_id in range(lower_bound, upper_bound):\n",
    "        try:\n",
    "            r = session.get(f\"{URL}{file_id}\", timeout = TIMEOUT)\n",
    "\n",
    "            r.raise_for_status()\n",
    "            \n",
    "            json = r.json()\n",
    "            data = format_JSON(json)\n",
    "\n",
    "            save_JSON(data, file_id)\n",
    "        except requests.exceptions.HTTPError as HTTP_err:\n",
    "            if r.text.__contains__(\"message\"):\n",
    "                logging.error(f\"{HTTP_err} - {r.json()['message']}\")\n",
    "            else:\n",
    "                logging.critical(f\"{HTTP_err} - Cloudfront\")\n",
    "                time.sleep(DELAY)\n",
    "                scrape(lower_bound=file_id)\n",
    "                break\n",
    "            continue\n",
    "        except requests.exceptions.ConnectionError as conn_err:\n",
    "            logging.critical(f\"{conn_err} {r.json()['message']}\")\n",
    "            break\n",
    "        except requests.exceptions.Timeout as time_err:\n",
    "            logging.error(f\"{time_err} - Timed out for url: {r.url}\")\n",
    "            continue\n",
    "        except requests.JSONDecodeError as decode_err:\n",
    "            logging.error(f\"{decode_err} - Couldn't decode json from: {r.url}\")\n",
    "            continue"
   ]
  },
  {
   "cell_type": "code",
   "execution_count": 21,
   "metadata": {},
   "outputs": [],
   "source": [
    "scrape()"
   ]
  }
 ],
 "metadata": {
  "kernelspec": {
   "display_name": "Python 3 (ipykernel)",
   "language": "python",
   "name": "python3"
  },
  "language_info": {
   "codemirror_mode": {
    "name": "ipython",
    "version": 3
   },
   "file_extension": ".py",
   "mimetype": "text/x-python",
   "name": "python",
   "nbconvert_exporter": "python",
   "pygments_lexer": "ipython3",
   "version": "3.9.13"
  },
  "orig_nbformat": 4,
  "vscode": {
   "interpreter": {
    "hash": "e7370f93d1d0cde622a1f8e1c04877d8463912d04d973331ad4851f04de6915a"
   }
  }
 },
 "nbformat": 4,
 "nbformat_minor": 2
}
